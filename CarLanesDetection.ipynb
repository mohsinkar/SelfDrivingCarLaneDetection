{
 "cells": [
  {
   "cell_type": "code",
   "execution_count": 1,
   "metadata": {
    "collapsed": true
   },
   "outputs": [],
   "source": [
    "#------------------------------------------------------\n",
    "# Name: CarLanesDetection\n",
    "#\n",
    "# Author: Mohsin Karim\n",
    "# Date Created 12/15/2016\n",
    "# Last Modified 12/15/2016\n",
    "#-------------------------------------------------------"
   ]
  },
  {
   "cell_type": "code",
   "execution_count": 2,
   "metadata": {
    "collapsed": false
   },
   "outputs": [],
   "source": [
    "#importing libraries\n",
    "import matplotlib.pyplot as plt\n",
    "import matplotlib.image as mpimg\n",
    "import numpy as np\n",
    "import cv2\n",
    "import math\n",
    "import os\n",
    "import sys\n",
    "import io\n",
    "import collections\n",
    "%matplotlib inline \n",
    "\n",
    "# Import everything needed to edit/save/watch video clips\n",
    "from moviepy.editor import VideoFileClip\n",
    "from IPython.display import HTML"
   ]
  },
  {
   "cell_type": "code",
   "execution_count": 3,
   "metadata": {
    "collapsed": true
   },
   "outputs": [],
   "source": [
    "def canny(img, low_threshold, high_threshold):\n",
    "    \"\"\"Applies the Canny transform\"\"\"\n",
    "    return cv2.Canny(img, low_threshold, high_threshold)\n"
   ]
  },
  {
   "cell_type": "code",
   "execution_count": 4,
   "metadata": {
    "collapsed": true
   },
   "outputs": [],
   "source": [
    "def gaussian_blur(img, kernel_size):\n",
    "    \"\"\"Applies a Gaussian Noise kernel\"\"\"\n",
    "    return cv2.GaussianBlur(img, (kernel_size, kernel_size), 0)\n"
   ]
  },
  {
   "cell_type": "code",
   "execution_count": 5,
   "metadata": {
    "collapsed": true
   },
   "outputs": [],
   "source": [
    "def region_of_interest(img, vertices):\n",
    "    \"\"\"\n",
    "    Applies an image mask.\n",
    "    \n",
    "    Only keeps the region of the image defined by the polygon\n",
    "    formed from `vertices`. The rest of the image is set to black.\n",
    "    \"\"\"\n",
    "    #defining a blank mask to start with\n",
    "    mask = np.zeros_like(img)   \n",
    "    \n",
    "    #defining a 3 channel or 1 channel color to fill the mask with depending on the input image\n",
    "    if len(img.shape) > 2:\n",
    "        channel_count = img.shape[2]  # i.e. 3 or 4 depending on your image\n",
    "        ignore_mask_color = (255,) * channel_count\n",
    "    else:\n",
    "        ignore_mask_color = 255\n",
    "        \n",
    "    #filling pixels inside the polygon defined by \"vertices\" with the fill color    \n",
    "    cv2.fillPoly(mask, vertices, ignore_mask_color)\n",
    "    \n",
    "    #returning the image only where mask pixels are nonzero\n",
    "    masked_image = cv2.bitwise_and(img, mask)\n",
    "    return masked_image\n"
   ]
  },
  {
   "cell_type": "code",
   "execution_count": 6,
   "metadata": {
    "collapsed": false
   },
   "outputs": [],
   "source": [
    "frame_l = []\n",
    "frame_r = []\n",
    "frame_lSlope = []\n",
    "frame_rSlope = []\n",
    "\n",
    "\n",
    "def draw_lines(img, lines, color=[0, 0, 255], thickness=10):\n",
    "    \"\"\"\n",
    "    Calculating slope, checking is /0 than move without furthure calculations\n",
    "    \"\"\"\n",
    "    \n",
    "    # list for last 5 slopes for each left and right lanes\n",
    "    left_slopes = []\n",
    "    right_slopes = []\n",
    "    averageL = 0\n",
    "    averageR = 0\n",
    "    \n",
    "    #max_records for slopes to hold\n",
    "    max_records_slopes = 10\n",
    "    records_counter_L = 0\n",
    "    records_counter_R = 0\n",
    "    \n",
    "    \n",
    "    leftlanes = []\n",
    "    rightlanes = []\n",
    "    \n",
    "    for line in lines:\n",
    "        for x1,y1,x2,y2 in line:\n",
    "            if (x2-x1) != 0:\n",
    "                #calculate Slope\n",
    "                slope = (y2-y1)/(x2-x1)\n",
    "                if np.absolute(slope) > 0.5: #tested different values and this is the best with least shake in lines\n",
    "                    if slope < 0: #left lanes\n",
    "                            if records_counter_L > max_records_slopes:\n",
    "                                left_slopes.pop(0)\n",
    "                                records_counter_L -=1;\n",
    "                            else:\n",
    "                                records_counter_L +=1;\n",
    "                                \n",
    "                            left_slopes.append(slope)\n",
    "                            averageL = np.sum(left_slopes) + (slope - np.sum(left_slopes)) / records_counter_L\n",
    "                            if np.absolute(averageL - slope) < 0.1 :\n",
    "                                leftlanes.append((x1,y1))\n",
    "                                leftlanes.append((x2,y2))\n",
    "                    else:\n",
    "                        if records_counter_R > max_records_slopes:\n",
    "                                right_slopes.pop(0)\n",
    "                                records_counter_R -=1;\n",
    "                        else:\n",
    "                                records_counter_R +=1;\n",
    "\n",
    "                        right_slopes.append(slope)\n",
    "                        averageR = np.sum(right_slopes) + (slope - np.sum(right_slopes)) / records_counter_R\n",
    "                      \n",
    "                        if np.absolute(averageR - slope) < 0.1 :\n",
    "                            rightlanes.append((x1,y1))\n",
    "                            rightlanes.append((x2,y2))               \n",
    "    \n",
    "    #cv2 fitline 0.01 would be a good default value for reps and aeps based on documentation\n",
    "    [vx,vy,x,y] = cv2.fitLine(np.array(leftlanes, dtype=np.int32), cv2.DIST_FAIR,0,0.01,0.01)\n",
    "    [vx_r,vy_r,x_r,y_r] = cv2.fitLine(np.array(rightlanes, dtype=np.int32), cv2.DIST_FAIR,0,0.01,0.01)    \n",
    "    slopeL = vy/vx\n",
    "    slopeR = vy_r / vx_r\n",
    "\n",
    "    leftX = y - (slopeL*x)\n",
    "    rightY = y_r - (slopeR*x_r)\n",
    "    \n",
    "    frame_l.append(leftX)\n",
    "    frame_r.append(rightY)\n",
    "    frame_lSlope.append(slopeL)\n",
    "    frame_rSlope.append(slopeR)\n",
    "\n",
    "    \n",
    "    # Average out the lines and slope\n",
    "    left = np.sum(frame_l)/len(frame_l) #avg[0]\n",
    "    lefts = np.sum(frame_lSlope)/len(frame_lSlope) #avg[1]\n",
    "    right = np.sum(frame_r)/len(frame_r) #avg[2]\n",
    "    rights = np.sum(frame_rSlope)/len(frame_rSlope) #avg[3]\n",
    "\n",
    "    lTop = (int(img.shape[0]/1.6) - left) / lefts\n",
    "    lBottom = int((img.shape[0] - left) / lefts)\n",
    "\n",
    "    rTop = (int(img.shape[0]/1.6) - right) / rights\n",
    "    rBottom = int((img.shape[0] - right) / rights)\n",
    "\n",
    "    #Drawing the left and right lanes\n",
    "    cv2.line(img, (int(lBottom), img.shape[0]), (int(lTop), int(img.shape[0]/1.6)), color, thickness)\n",
    "    cv2.line(img, (int(rBottom), img.shape[0]), (int(rTop), int(img.shape[0]/1.6)), color, thickness)"
   ]
  },
  {
   "cell_type": "code",
   "execution_count": 7,
   "metadata": {
    "collapsed": true
   },
   "outputs": [],
   "source": [
    "def hough_lines(img, rho, theta, threshold, min_line_len, max_line_gap):\n",
    "    \"\"\"\n",
    "    `img` should be the output of a Canny transform.\n",
    "        \n",
    "    Returns an image with hough lines drawn.\n",
    "    \"\"\"\n",
    "    lines = cv2.HoughLinesP(img, rho, theta, threshold, np.array([]), minLineLength=min_line_len, maxLineGap=max_line_gap)\n",
    "    line_img = np.zeros((img.shape[0], img.shape[1], 3), dtype=np.uint8)\n",
    "    draw_lines(line_img, lines)\n",
    "    return line_img\n"
   ]
  },
  {
   "cell_type": "code",
   "execution_count": 8,
   "metadata": {
    "collapsed": true
   },
   "outputs": [],
   "source": [
    "# Python 3 has support for cool math symbols.\n",
    "\n",
    "def weighted_img(img, initial_img, α=0.8, β=1., λ=0.):\n",
    "    \"\"\"\n",
    "    `img` is the output of the hough_lines(), An image with lines drawn on it.\n",
    "    Should be a blank image (all black) with lines drawn on it.\n",
    "    \n",
    "    `initial_img` should be the image before any processing.\n",
    "    \n",
    "    The result image is computed as follows:\n",
    "    \n",
    "    initial_img * α + img * β + λ\n",
    "    NOTE: initial_img and img must be the same shape!\n",
    "    \"\"\"\n",
    "    return cv2.addWeighted(initial_img, α, img, β, λ)\n"
   ]
  },
  {
   "cell_type": "code",
   "execution_count": 9,
   "metadata": {
    "collapsed": false
   },
   "outputs": [],
   "source": [
    "def grayscale(img):\n",
    "    \"\"\"Applies the Grayscale transform\n",
    "    This will return an image with only one color channel\n",
    "    but NOTE: to see the returned image as grayscale\n",
    "    you should call plt.imshow(gray, cmap='gray')\"\"\"\n",
    "    return cv2.cvtColor(img, cv2.COLOR_RGB2GRAY)\n",
    "    # Or use BGR2GRAY if you read an image with cv2.imread()\n",
    "    # return cv2.cvtColor(img, cv2.COLOR_BGR2GRAY)\n"
   ]
  },
  {
   "cell_type": "markdown",
   "metadata": {},
   "source": [
    "##### Main processing pipeline ####\n",
    "\n",
    "The following processes are performed in the this function\n",
    "\n",
    "1. Image is conveted to HSV\n",
    "2. Color range is defined for white color lanes\n",
    "3. Color range is defined for yellow color lanes\n",
    "4. Yellow color is extracted from the image using inRange \n",
    "5. White color is extracted from the image using inRange\n",
    "6. The two images extracted yellow and extracted white is combined.\n",
    "7. Applied canny on the combined image\n",
    "8. Reduced the selection to the desired region.\n",
    "9. Hough trasform on the region."
   ]
  },
  {
   "cell_type": "code",
   "execution_count": 10,
   "metadata": {
    "collapsed": false
   },
   "outputs": [],
   "source": [
    "#MAIN Processing Code using HSV\n",
    "\n",
    "def DetectLanesHSV(original_image):\n",
    "    \n",
    "    img_dimensions = original_image.shape\n",
    "    #print('This image is:', type(original_image), 'with dimesions:', original_image.shape)\n",
    "    \n",
    "    hsv = cv2.cvtColor(original_image, cv2.COLOR_BGR2HSV)\n",
    "    \n",
    "    sensitivity = 40\n",
    "    color_ranges_white = [([0,0,255-sensitivity],[255,sensitivity,255]) ]\n",
    "    color_ranges = [([5,50,50],[25,255,255]) ]\n",
    "    color_ranges_yellow = [([5,100,100],[25,255,255])]\n",
    "    \n",
    "    output_yellow = None\n",
    "    output_white = None\n",
    "    \n",
    "    #storing image dimensions\n",
    "    img_dimensions = original_image.shape\n",
    "    gray = grayscale(original_image) #Getting and storing the orginal image in grayscale\n",
    "    \n",
    "    kernel_size  = 7\n",
    "    low_threshold = 70\n",
    "    high_threshold = 200\n",
    "    \n",
    "    \n",
    "    #Define Rectanle Points\n",
    "    vertices = np.array([[(0,img_dimensions[0]),\n",
    "                          (img_dimensions[1] * ((1.6)/3),img_dimensions[0]/1.71),\n",
    "                          (img_dimensions[1] * ((1.6)/3),img_dimensions[0]/1.71),\n",
    "                          (img_dimensions[1],img_dimensions[0])]],dtype=np.int32)\n",
    "      \n",
    "    rho = 1\n",
    "    theta = np.pi/180\n",
    "    threshold = 10\n",
    "    min_line_len = 10\n",
    "    max_line_gap = 30\n",
    "    line_image = np.copy(original_image)\n",
    "    \n",
    "    \n",
    "    #Getting Yellow lines from image\n",
    "    for (lower, upper) in color_ranges_yellow :\n",
    "        lower = np.array(lower, dtype = \"uint8\")\n",
    "        upper = np.array(upper, dtype = \"uint8\")\n",
    "        mask = cv2.inRange(hsv,lower,upper)\n",
    "        output_yellow = cv2.bitwise_and(original_image,original_image,mask = mask)\n",
    "    \n",
    "    #Getting White lines from image\n",
    "    for (lower, upper) in color_ranges_white :\n",
    "        lower = np.array(lower, dtype = \"uint8\")\n",
    "        upper = np.array(upper, dtype = \"uint8\")\n",
    "        mask = cv2.inRange(hsv,lower,upper)\n",
    "        output_white = cv2.bitwise_and(original_image,original_image,mask = mask)\n",
    "\n",
    "    #combine yellow and white\n",
    "    yellow_white = output_yellow + output_white\n",
    "    canny_img = canny(yellow_white,low_threshold,high_threshold)\n",
    "    region = region_of_interest(canny_img,vertices)\n",
    "    h_lines = hough_lines(region, rho, theta, threshold, min_line_len, max_line_gap)\n",
    "    final_image = weighted_img(h_lines,original_image)\n",
    "    \n",
    "    return final_image"
   ]
  },
  {
   "cell_type": "code",
   "execution_count": 11,
   "metadata": {
    "collapsed": false
   },
   "outputs": [
    {
     "name": "stdout",
     "output_type": "stream",
     "text": [
      "Finished....\n"
     ]
    }
   ],
   "source": [
    "#files = os.listdir(\"Challange_frames/\")\n",
    "#for file in files:\n",
    "#    #reading in an image\n",
    "#    original_image = cv2.imread('Challange_frames/' + file)\n",
    "    #Function Call    \n",
    "#    final_image = DetectLanesHSV(original_image)\n",
    "#    cv2.imwrite(r'C:\\Users\\mohsin\\Desktop\\CarND-LaneLines-P1\\CC\\\\' + file ,final_image)\n",
    "    \n",
    "cap = cv2.VideoCapture(\"challenge.mp4\")\n",
    "width = cap.get(cv2.CAP_PROP_FRAME_WIDTH);\n",
    "height = cap.get(cv2.CAP_PROP_FRAME_HEIGHT); \n",
    "fourcc = cv2.VideoWriter_fourcc(*'mp4v')\n",
    "out = cv2.VideoWriter('challengeHSV_processed.mp4',fourcc, 15.0, (int(width),int(height)))\n",
    "\n",
    "while(True):\n",
    "    # Capture frames\n",
    "    ret, frame = cap.read()\n",
    "    if ret:\n",
    "        f_image = DetectLanesHSV(frame)\n",
    "        # write the frame\n",
    "        out.write(f_image)\n",
    "    else :\n",
    "        break\n",
    "cap.release()\n",
    "out.release()\n",
    "cv2.destroyAllWindows()\n",
    "print (\"Finished....\")\n"
   ]
  }
 ],
 "metadata": {
  "anaconda-cloud": {},
  "kernelspec": {
   "display_name": "Python [conda root]",
   "language": "python",
   "name": "conda-root-py"
  },
  "language_info": {
   "codemirror_mode": {
    "name": "ipython",
    "version": 3
   },
   "file_extension": ".py",
   "mimetype": "text/x-python",
   "name": "python",
   "nbconvert_exporter": "python",
   "pygments_lexer": "ipython3",
   "version": "3.5.2"
  }
 },
 "nbformat": 4,
 "nbformat_minor": 1
}
